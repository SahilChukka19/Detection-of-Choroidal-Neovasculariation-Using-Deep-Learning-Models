{
 "cells": [
  {
   "cell_type": "code",
   "execution_count": null,
   "id": "88d3d3fb",
   "metadata": {
    "vscode": {
     "languageId": "plaintext"
    }
   },
   "outputs": [],
   "source": [
    "from tensorflow.keras.applications import EfficientNetV2L\n",
    "\n",
    "model = EfficientNetV2L(weights='imagenet',\n",
    "                        include_top=False,\n",
    "                        input_shape=(224, 224, 3))\n",
    "\n",
    "model.summary()"
   ]
  },
  {
   "cell_type": "code",
   "execution_count": null,
   "id": "7a84a009",
   "metadata": {
    "vscode": {
     "languageId": "plaintext"
    }
   },
   "outputs": [],
   "source": [
    "for layer in model.layers:\n",
    "  layer.trainable = False"
   ]
  },
  {
   "cell_type": "code",
   "execution_count": null,
   "id": "114e3fd8",
   "metadata": {
    "vscode": {
     "languageId": "plaintext"
    }
   },
   "outputs": [],
   "source": [
    "from tensorflow.keras.models import Sequential\n",
    "from tensorflow.keras.layers import *\n",
    "\n",
    "my_model = Sequential([model,\n",
    "                       GlobalAveragePooling2D(),\n",
    "                       Dense(512, activation='relu'),\n",
    "                       Dropout(0.2),\n",
    "                       Dense(512, activation='relu'),\n",
    "                       Dropout(0.2),\n",
    "                       Dense(1, activation='sigmoid')])\n",
    "\n",
    "my_model.summary()"
   ]
  },
  {
   "cell_type": "code",
   "execution_count": null,
   "id": "11a5d06c",
   "metadata": {
    "vscode": {
     "languageId": "plaintext"
    }
   },
   "outputs": [],
   "source": [
    "import tensorflow as tf\n",
    "\n",
    "BATCH_SIZE = 32\n",
    "SEED = 1\n",
    "\n",
    "train_dataset = tf.keras.utils.image_dataset_from_directory(\n",
    "    '/content/drive/MyDrive/dataset80-20/training',\n",
    "    color_mode='rgb',\n",
    "    batch_size=BATCH_SIZE,\n",
    "    image_size=(224, 224),\n",
    "    shuffle=True,\n",
    "    seed=SEED)\n",
    "\n",
    "val_dataset = tf.keras.utils.image_dataset_from_directory(\n",
    "    '/content/drive/MyDrive/dataset80-20/testing',\n",
    "    color_mode='rgb',\n",
    "    batch_size=BATCH_SIZE,\n",
    "    image_size=(224, 224),\n",
    "    shuffle=False,\n",
    "    seed=SEED\n",
    ")"
   ]
  },
  {
   "cell_type": "code",
   "execution_count": null,
   "id": "10ee5319",
   "metadata": {
    "vscode": {
     "languageId": "plaintext"
    }
   },
   "outputs": [],
   "source": [
    "iterator = iter(train_dataset)"
   ]
  },
  {
   "cell_type": "code",
   "execution_count": null,
   "id": "17441fce",
   "metadata": {
    "vscode": {
     "languageId": "plaintext"
    }
   },
   "outputs": [],
   "source": [
    "import matplotlib.pyplot as plt\n",
    "import numpy as np\n",
    "\n",
    "plt.imshow(next(iterator)[0][0].numpy().astype(np.int32))"
   ]
  },
  {
   "cell_type": "code",
   "execution_count": null,
   "id": "34df3381",
   "metadata": {
    "vscode": {
     "languageId": "plaintext"
    }
   },
   "outputs": [],
   "source": [
    "from tensorflow.image import flip_left_right, adjust_brightness, adjust_contrast\n",
    "\n",
    "def augment(image, label):\n",
    "  image = flip_left_right(image)\n",
    "  image = adjust_brightness(image, delta=0.1)\n",
    "  image = adjust_contrast(image, contrast_factor=1.75)\n",
    "\n",
    "  return (image, label)\n",
    "\n",
    "train_dataset = train_dataset.map(augment, num_parallel_calls=tf.data.AUTOTUNE)\n",
    "\n",
    "iterator = iter(train_dataset)"
   ]
  },
  {
   "cell_type": "code",
   "execution_count": null,
   "id": "585990a6",
   "metadata": {
    "vscode": {
     "languageId": "plaintext"
    }
   },
   "outputs": [],
   "source": [
    "plt.imshow(next(iterator)[0][0].numpy().astype(np.int32))"
   ]
  },
  {
   "cell_type": "code",
   "execution_count": null,
   "id": "2a576e16",
   "metadata": {
    "vscode": {
     "languageId": "plaintext"
    }
   },
   "outputs": [],
   "source": [
    "train_dataset = train_dataset.prefetch(tf.data.AUTOTUNE)\n",
    "train_dataset"
   ]
  },
  {
   "cell_type": "code",
   "execution_count": null,
   "id": "4de0885f",
   "metadata": {
    "vscode": {
     "languageId": "plaintext"
    }
   },
   "outputs": [],
   "source": [
    "val_dataset = val_dataset.prefetch(tf.data.AUTOTUNE)\n",
    "\n",
    "val_dataset"
   ]
  },
  {
   "cell_type": "code",
   "execution_count": null,
   "id": "fc10bfc4",
   "metadata": {
    "vscode": {
     "languageId": "plaintext"
    }
   },
   "outputs": [],
   "source": [
    "from tensorflow.keras.metrics import *\n",
    "\n",
    "metrics = ['accuracy', Precision(), Recall(), AUC()]\n",
    "\n",
    "from tensorflow.keras.optimizers import Adam\n",
    "from tensorflow.keras.losses import BinaryCrossentropy\n",
    "\n",
    "my_model.compile(loss=BinaryCrossentropy(),\n",
    "                 optimizer=Adam(learning_rate=0.001),\n",
    "                 metrics=metrics)"
   ]
  },
  {
   "cell_type": "code",
   "execution_count": null,
   "id": "9a6e1e97",
   "metadata": {
    "vscode": {
     "languageId": "plaintext"
    }
   },
   "outputs": [],
   "source": [
    "from tensorflow.keras.callbacks import EarlyStopping\n",
    "\n",
    "es = EarlyStopping(patience=3, monitor='val_loss')"
   ]
  },
  {
   "cell_type": "code",
   "execution_count": null,
   "id": "60634d07",
   "metadata": {
    "vscode": {
     "languageId": "plaintext"
    }
   },
   "outputs": [],
   "source": [
    "my_model.fit(train_dataset, epochs=20,\n",
    "             validation_data=val_dataset,\n",
    "             callbacks=[es])"
   ]
  },
  {
   "cell_type": "code",
   "execution_count": null,
   "id": "d508f771",
   "metadata": {
    "vscode": {
     "languageId": "plaintext"
    }
   },
   "outputs": [],
   "source": [
    "file_path = '/content/drive/MyDrive/models 80-20/efficientnetv2_model-80-20.h5'\n",
    "\n",
    "# Save the model as an HDF5 file\n",
    "model.save(file_path)\n",
    "\n",
    "print(f\"EfficientNetV2 model saved as '{file_path}'.\")"
   ]
  },
  {
   "cell_type": "code",
   "execution_count": null,
   "id": "6f730d1b",
   "metadata": {
    "vscode": {
     "languageId": "plaintext"
    }
   },
   "outputs": [],
   "source": [
    "my_model.save('model')"
   ]
  },
  {
   "cell_type": "code",
   "execution_count": null,
   "id": "a19f1b99",
   "metadata": {
    "vscode": {
     "languageId": "plaintext"
    }
   },
   "outputs": [],
   "source": [
    "from PIL import Image\n",
    "\n",
    "image = Image.open('/content/drive/MyDrive/cnv sample/CNV-779442-1.jpeg')\n",
    "image = image.resize((224, 224))\n",
    "image"
   ]
  },
  {
   "cell_type": "code",
   "execution_count": null,
   "id": "6f7efad9",
   "metadata": {
    "vscode": {
     "languageId": "plaintext"
    }
   },
   "outputs": [],
   "source": [
    "img = np.asarray(image)\n",
    "\n",
    "img.shape"
   ]
  },
  {
   "cell_type": "code",
   "execution_count": null,
   "id": "b1d610f4",
   "metadata": {
    "vscode": {
     "languageId": "plaintext"
    }
   },
   "outputs": [],
   "source": [
    "from copy import deepcopy\n",
    "\n",
    "img_2 = deepcopy(img)\n",
    "\n",
    "images = [img, img_2]"
   ]
  },
  {
   "cell_type": "code",
   "execution_count": null,
   "id": "79c222db",
   "metadata": {
    "vscode": {
     "languageId": "plaintext"
    }
   },
   "outputs": [],
   "source": [
    "prediction = my_model.predict(np.array(images))\n",
    "\n",
    "prediction"
   ]
  },
  {
   "cell_type": "code",
   "execution_count": null,
   "id": "79a9ec82",
   "metadata": {
    "vscode": {
     "languageId": "plaintext"
    }
   },
   "outputs": [],
   "source": [
    "sorted(['cnv', 'normal'])"
   ]
  },
  {
   "cell_type": "code",
   "execution_count": null,
   "id": "bfaf29d2",
   "metadata": {
    "vscode": {
     "languageId": "plaintext"
    }
   },
   "outputs": [],
   "source": [
    "from sklearn.metrics import confusion_matrix, classification_report, accuracy_score, recall_score, precision_score, f1_score\n",
    "from tensorflow.keras.models import load_model\n",
    "\n",
    "model_path = '/content/drive/MyDrive/models 80-20/efficientnetv2_model-80-20.h5'\n",
    "model = load_model(model_path)"
   ]
  },
  {
   "cell_type": "code",
   "execution_count": null,
   "id": "8a43f3f3",
   "metadata": {
    "vscode": {
     "languageId": "plaintext"
    }
   },
   "outputs": [],
   "source": [
    "import numpy as np\n",
    "from sklearn.metrics import confusion_matrix, classification_report\n",
    "import tensorflow as tf\n",
    "\n",
    "# Load your saved model\n",
    "model_path = '/content/drive/MyDrive/models 80-20/efficientnetv2_model-80-20.h5'\n",
    "loaded_model = tf.keras.models.load_model(model_path)\n",
    "\n",
    "# Load your validation dataset (val_dataset) with labels\n",
    "# You can use tfds.load or tf.keras.utils.image_dataset_from_directory to load the dataset\n",
    "\n",
    "# Predict on the validation dataset\n",
    "y_true = []\n",
    "y_pred = []\n",
    "\n",
    "for x, labels in val_dataset:\n",
    "    y_true.extend(labels.numpy())\n",
    "    predictions = loaded_model.predict(x)\n",
    "    y_pred.extend((predictions > 0.5).astype(int).flatten())  # Assuming binary classification\n",
    "\n",
    "# Convert to numpy arrays\n",
    "y_true = np.array(y_true)\n",
    "y_pred = np.array(y_pred)\n",
    "\n",
    "# Calculate the confusion matrix\n",
    "confusion = confusion_matrix(y_true, y_pred)\n",
    "\n",
    "# Print the confusion matrix\n",
    "print(\"Confusion Matrix:\")\n",
    "print(confusion)\n",
    "\n",
    "# Calculate the classification report\n",
    "classification_rep = classification_report(y_true, y_pred, target_names=['cnv', 'normal'])\n",
    "\n",
    "# Print the classification report\n",
    "print(\"\\nClassification Report:\")\n",
    "print(classification_rep)\n"
   ]
  },
  {
   "cell_type": "code",
   "execution_count": null,
   "id": "1d0fdcf1",
   "metadata": {
    "vscode": {
     "languageId": "plaintext"
    }
   },
   "outputs": [],
   "source": []
  },
  {
   "cell_type": "code",
   "execution_count": null,
   "id": "bfe430d4",
   "metadata": {
    "vscode": {
     "languageId": "plaintext"
    }
   },
   "outputs": [],
   "source": []
  },
  {
   "cell_type": "code",
   "execution_count": null,
   "id": "61acafb8",
   "metadata": {
    "vscode": {
     "languageId": "plaintext"
    }
   },
   "outputs": [],
   "source": []
  }
 ],
 "metadata": {
  "language_info": {
   "name": "python"
  }
 },
 "nbformat": 4,
 "nbformat_minor": 5
}
